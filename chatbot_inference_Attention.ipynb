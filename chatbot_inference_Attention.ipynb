{
 "cells": [
  {
   "cell_type": "code",
   "execution_count": 1,
   "metadata": {},
   "outputs": [],
   "source": [
    "import numpy as np\n",
    "import pickle\n",
    "import operator\n",
    "\n",
    "question = np.load('pad_question.npy')\n",
    "answer = np.load('pad_answer.npy')\n",
    "answer_o = np.load('answer_o.npy')\n",
    "with open('vocab_bag.pkl', 'rb') as f:\n",
    "    words = pickle.load(f)\n",
    "with open('pad_word_to_index.pkl', 'rb') as f:\n",
    "    word_to_index = pickle.load(f)\n",
    "with open('pad_index_to_word.pkl', 'rb') as f:\n",
    "    index_to_word = pickle.load(f)\n",
    "vocab_size = len(word_to_index) + 1\n",
    "maxLen=20"
   ]
  },
  {
   "cell_type": "code",
   "execution_count": 2,
   "metadata": {},
   "outputs": [
    {
     "name": "stderr",
     "output_type": "stream",
     "text": [
      "Using TensorFlow backend.\n"
     ]
    }
   ],
   "source": [
    "from keras.preprocessing import sequence\n",
    "def generate_train(batch_size):\n",
    "    print('\\n*********************************generate_train()*********************************')\n",
    "    steps=0\n",
    "    question_ = question\n",
    "    answer_ = answer\n",
    "    while True:\n",
    "        batch_answer_o = answer_o[steps:steps+batch_size]\n",
    "        batch_question = question_[steps:steps+batch_size]\n",
    "        batch_answer = answer_[steps:steps+batch_size]\n",
    "        outs = np.zeros([batch_size, maxLen, vocab_size], dtype='float32')\n",
    "        for pos, i in enumerate(batch_answer_o):\n",
    "            for pos_, j in enumerate(i):\n",
    "                if pos_ > 20:\n",
    "                    print(i)\n",
    "                outs[pos, pos_, j] = 1 # one-hot\n",
    "        yield [batch_question, batch_answer], outs\n",
    "        steps += batch_size\n",
    "        if steps == 100000:\n",
    "            steps = 0"
   ]
  },
  {
   "cell_type": "code",
   "execution_count": 3,
   "metadata": {},
   "outputs": [],
   "source": [
    "from keras.layers import Embedding\n",
    "from keras.layers import Input, Dense, LSTM, TimeDistributed, Bidirectional, Dropout, Concatenate, RepeatVector, Activation, Dot\n",
    "from keras.layers import concatenate, dot                    \n",
    "from keras.models import Model\n",
    "from keras.utils import plot_model\n",
    "from keras.callbacks import ModelCheckpoint, TensorBoard\n",
    "from keras.initializers import TruncatedNormal\n",
    "import pydot\n",
    "import os, re"
   ]
  },
  {
   "cell_type": "code",
   "execution_count": 4,
   "metadata": {},
   "outputs": [
    {
     "name": "stdout",
     "output_type": "stream",
     "text": [
      "WARNING:tensorflow:From c:\\users\\王嘉意\\appdata\\local\\programs\\python\\python36\\lib\\site-packages\\tensorflow\\python\\framework\\op_def_library.py:263: colocate_with (from tensorflow.python.framework.ops) is deprecated and will be removed in a future version.\n",
      "Instructions for updating:\n",
      "Colocations handled automatically by placer.\n",
      "__________________________________________________________________________________________________\n",
      "Layer (type)                    Output Shape         Param #     Connected to                     \n",
      "==================================================================================================\n",
      "input_answer (InputLayer)       (None, None)         0                                            \n",
      "__________________________________________________________________________________________________\n",
      "input_question (InputLayer)     (None, None)         0                                            \n",
      "__________________________________________________________________________________________________\n",
      "embedding_1 (Embedding)         (None, None, 100)    4335000     input_question[0][0]             \n",
      "                                                                 input_answer[0][0]               \n",
      "__________________________________________________________________________________________________\n",
      "encoder_lstm (LSTM)             [(None, None, 512),  1255424     embedding_1[0][0]                \n",
      "__________________________________________________________________________________________________\n",
      "decoder_lstm (LSTM)             [(None, None, 512),  1255424     embedding_1[1][0]                \n",
      "                                                                 encoder_lstm[0][1]               \n",
      "                                                                 encoder_lstm[0][2]               \n",
      "__________________________________________________________________________________________________\n",
      "dot_1 (Dot)                     (None, None, None)   0           decoder_lstm[0][0]               \n",
      "                                                                 encoder_lstm[0][0]               \n",
      "__________________________________________________________________________________________________\n",
      "activation_1 (Activation)       (None, None, None)   0           dot_1[0][0]                      \n",
      "__________________________________________________________________________________________________\n",
      "dot_2 (Dot)                     (None, None, 512)    0           activation_1[0][0]               \n",
      "                                                                 encoder_lstm[0][0]               \n",
      "__________________________________________________________________________________________________\n",
      "concatenate_1 (Concatenate)     (None, None, 1024)   0           dot_2[0][0]                      \n",
      "                                                                 decoder_lstm[0][0]               \n",
      "__________________________________________________________________________________________________\n",
      "time_distributed_1 (TimeDistrib (None, None, 256)    262400      concatenate_1[0][0]              \n",
      "__________________________________________________________________________________________________\n",
      "time_distributed_2 (TimeDistrib (None, None, 43350)  11140950    time_distributed_1[0][0]         \n",
      "==================================================================================================\n",
      "Total params: 18,249,198\n",
      "Trainable params: 18,249,198\n",
      "Non-trainable params: 0\n",
      "__________________________________________________________________________________________________\n"
     ]
    }
   ],
   "source": [
    "truncatednormal = TruncatedNormal(mean=0.0, stddev=0.05)\n",
    "embed_layer = Embedding(input_dim=vocab_size, \n",
    "                        output_dim=100, \n",
    "                        mask_zero=True,\n",
    "                        input_length=None,\n",
    "                        embeddings_initializer= truncatednormal)\n",
    "LSTM_encoder = LSTM(512,\n",
    "                      return_sequences=True,\n",
    "                      return_state=True,\n",
    "                      kernel_initializer= 'lecun_uniform',\n",
    "                      name='encoder_lstm'\n",
    "                        )\n",
    "LSTM_decoder = LSTM(512, \n",
    "                    return_sequences=True, \n",
    "                    return_state=True, \n",
    "                    kernel_initializer= 'lecun_uniform',\n",
    "                    name='decoder_lstm'\n",
    "                   )\n",
    "\n",
    "#encoder输入 与 decoder输入\n",
    "input_question = Input(shape=(None, ), dtype='int32', name='input_question')\n",
    "input_answer = Input(shape=(None, ), dtype='int32', name='input_answer')\n",
    "\n",
    "input_question_embed = embed_layer(input_question)\n",
    "input_answer_embed = embed_layer(input_answer)\n",
    "\n",
    "\n",
    "encoder_lstm, question_h, question_c = LSTM_encoder(input_question_embed)\n",
    "\n",
    "decoder_lstm, _, _ = LSTM_decoder(input_answer_embed, \n",
    "                                  initial_state=[question_h, question_c])\n",
    "\n",
    "attention = dot([decoder_lstm, encoder_lstm], axes=[2, 2])\n",
    "attention = Activation('softmax')(attention)\n",
    "context = dot([attention, encoder_lstm], axes=[2,1])\n",
    "decoder_combined_context = concatenate([context, decoder_lstm])\n",
    "\n",
    "\n",
    "# Has another weight + tanh layer as described in equation (5) of the paper\n",
    "decoder_dense1 = TimeDistributed(Dense(256,activation=\"tanh\"))\n",
    "decoder_dense2 = TimeDistributed(Dense(vocab_size,activation=\"softmax\"))\n",
    "output = decoder_dense1(decoder_combined_context) # equation (5) of the paper\n",
    "output = decoder_dense2(output) # equation (6) of the paper\n",
    "\n",
    "model = Model([input_question, input_answer], output)\n",
    "\n",
    "model.compile(optimizer='rmsprop', loss='categorical_crossentropy')\n",
    "\n",
    "model.load_weights('models/W--184-0.5949-.h5')\n",
    "model.summary()"
   ]
  },
  {
   "cell_type": "code",
   "execution_count": 5,
   "metadata": {},
   "outputs": [
    {
     "name": "stdout",
     "output_type": "stream",
     "text": [
      "_________________________________________________________________\n",
      "Layer (type)                 Output Shape              Param #   \n",
      "=================================================================\n",
      "input_question (InputLayer)  (None, None)              0         \n",
      "_________________________________________________________________\n",
      "embedding_1 (Embedding)      (None, None, 100)         4335000   \n",
      "_________________________________________________________________\n",
      "encoder_lstm (LSTM)          [(None, None, 512), (None 1255424   \n",
      "=================================================================\n",
      "Total params: 5,590,424\n",
      "Trainable params: 5,590,424\n",
      "Non-trainable params: 0\n",
      "_________________________________________________________________\n",
      "__________________________________________________________________________________________________\n",
      "Layer (type)                    Output Shape         Param #     Connected to                     \n",
      "==================================================================================================\n",
      "input_answer (InputLayer)       (None, None)         0                                            \n",
      "__________________________________________________________________________________________________\n",
      "embedding_1 (Embedding)         (None, None, 100)    4335000     input_answer[0][0]               \n",
      "__________________________________________________________________________________________________\n",
      "input_1 (InputLayer)            (None, 512)          0                                            \n",
      "__________________________________________________________________________________________________\n",
      "input_2 (InputLayer)            (None, 512)          0                                            \n",
      "__________________________________________________________________________________________________\n",
      "decoder_lstm (LSTM)             [(None, None, 512),  1255424     embedding_1[1][0]                \n",
      "                                                                 input_1[0][0]                    \n",
      "                                                                 input_2[0][0]                    \n",
      "__________________________________________________________________________________________________\n",
      "input_3 (InputLayer)            (None, 20, 512)      0                                            \n",
      "__________________________________________________________________________________________________\n",
      "dot_3 (Dot)                     (None, None, 20)     0           decoder_lstm[1][0]               \n",
      "                                                                 input_3[0][0]                    \n",
      "__________________________________________________________________________________________________\n",
      "activation_2 (Activation)       (None, None, 20)     0           dot_3[0][0]                      \n",
      "__________________________________________________________________________________________________\n",
      "dot_4 (Dot)                     (None, None, 512)    0           activation_2[0][0]               \n",
      "                                                                 input_3[0][0]                    \n",
      "__________________________________________________________________________________________________\n",
      "concatenate_2 (Concatenate)     (None, None, 1024)   0           dot_4[0][0]                      \n",
      "                                                                 decoder_lstm[1][0]               \n",
      "__________________________________________________________________________________________________\n",
      "time_distributed_1 (TimeDistrib (None, None, 256)    262400      concatenate_2[0][0]              \n",
      "__________________________________________________________________________________________________\n",
      "time_distributed_2 (TimeDistrib (None, None, 43350)  11140950    time_distributed_1[1][0]         \n",
      "==================================================================================================\n",
      "Total params: 16,993,774\n",
      "Trainable params: 16,993,774\n",
      "Non-trainable params: 0\n",
      "__________________________________________________________________________________________________\n"
     ]
    }
   ],
   "source": [
    "question_model = Model(input_question, [encoder_lstm, question_h, question_c])\n",
    "question_model.summary()\n",
    "answer_h = Input(shape=(512,))\n",
    "answer_c = Input(shape=(512,))\n",
    "encoder_lstm = Input(shape=(maxLen,512))\n",
    "target, h, c = LSTM_decoder(input_answer_embed, initial_state=[answer_h, answer_c])\n",
    "attention = dot([target, encoder_lstm], axes=[2, 2])\n",
    "attention_ = Activation('softmax')(attention)\n",
    "context = dot([attention_, encoder_lstm], axes=[2,1])\n",
    "decoder_combined_context = concatenate([context, target])\n",
    "output = decoder_dense1(decoder_combined_context) # equation (5) of the paper\n",
    "output = decoder_dense2(output) # equation (6) of the paper\n",
    "answer_model = Model([input_answer, answer_h, answer_c, encoder_lstm], [output, h, c, attention_])\n",
    "answer_model.summary()"
   ]
  },
  {
   "cell_type": "code",
   "execution_count": 6,
   "metadata": {},
   "outputs": [],
   "source": [
    "from keras.preprocessing import sequence\n",
    "import numpy as np\n",
    "import matplotlib.pyplot as plt\n",
    "import matplotlib\n",
    "import jieba\n",
    "import requests\n",
    "def act_weather(city):\n",
    "    #TODO: Get weather by api\n",
    "    url = 'http://wthrcdn.etouch.cn/weather_mini?city=' + city\n",
    "    page = requests.get(url)\n",
    "    data = page.json()\n",
    "    temperature = data['data']['wendu']\n",
    "    notice = data['data']['ganmao']\n",
    "    outstrs = \"地点： %s\\n气温： %s\\n注意： %s\" % (city, temperature, notice)\n",
    "    return outstrs + ' EOS'\n",
    "def input_question(seq):\n",
    "    seq = jieba.lcut(seq.strip(), cut_all=False)\n",
    "    sentence = seq\n",
    "    try:\n",
    "        seq = np.array([word_to_index[w] for w in seq])\n",
    "    except KeyError:\n",
    "        seq = np.array([36874, 165, 14625])\n",
    "    seq = sequence.pad_sequences([seq], maxlen=maxLen,\n",
    "                                          padding='post', truncating='post')\n",
    "    print(seq)\n",
    "    return seq, sentence\n",
    "def decode_greedy(seq, sentence):\n",
    "    question = seq\n",
    "    for index in question[0]:\n",
    "        if int(index) == 5900:\n",
    "            for index_ in question[0]:\n",
    "                if index_ in [7851, 11842,2406, 3485, 823, 12773, 8078]:\n",
    "                    return act_weather(index_to_word[index_])\n",
    "    answer = np.zeros((1, 1))\n",
    "    attention_plot = np.zeros((20, 20))\n",
    "    answer[0, 0] = word_to_index['BOS']\n",
    "    i=1\n",
    "    answer_ = []\n",
    "    flag = 0\n",
    "    encoder_lstm_, question_h, question_c = question_model.predict(x=question, verbose=1)\n",
    "#     print(question_h, '\\n')\n",
    "    while flag != 1:\n",
    "        prediction, prediction_h, prediction_c, attention = answer_model.predict([\n",
    "            answer, question_h, question_c, encoder_lstm_\n",
    "        ])\n",
    "        attention_weights = attention.reshape(-1, )\n",
    "        attention_plot[i] = attention_weights\n",
    "        word_arg = np.argmax(prediction[0, -1, :])#\n",
    "        answer_.append(index_to_word[word_arg])\n",
    "        if word_arg == word_to_index['EOS']  or i > 20:\n",
    "            flag = 1\n",
    "        answer = np.zeros((1, 1))\n",
    "        answer[0, 0] = word_arg\n",
    "        question_h = prediction_h\n",
    "        question_c = prediction_c\n",
    "        i += 1\n",
    "    result = ' '.join(answer_)\n",
    "    attention_plot = attention_plot[:len(result.split(' ')), :len(sentence)]\n",
    "    plot_attention(attention_plot, sentence, result.split(' '))\n",
    "    return ' '.join(answer_)\n",
    "def decode_beamsearch(seq, beam_size):\n",
    "    question = seq\n",
    "    encoder_lstm_, question_h, question_c = question_model.predict(x=question, verbose=1)\n",
    "    sequences = [[[word_to_index['BOS']], 1.0, question_h, question_c]]\n",
    "    answer = np.zeros((1, 1))\n",
    "    answer[0, 0] = word_to_index['BOS']\n",
    "    answer_ = ''\n",
    "    flag = 0\n",
    "    last_words = [word_to_index['BOS']]\n",
    "    for i in range(maxLen):\n",
    "        all_candidates = []\n",
    "        for j in range(len(sequences)):\n",
    "            s, score, h, c = sequences[j]\n",
    "            last_word = s[-1]\n",
    "            if not isinstance(last_word, int):\n",
    "                last_word=last_word[-1]\n",
    "            answer[0, 0] = last_word\n",
    "            output, h, c, _ = answer_model.predict([answer, h, c, encoder_lstm_])\n",
    "            output = output[0, -1]\n",
    "            for k in range(len(output)):\n",
    "                candidate = [seq+[k], score*-np.log(output[k]), h, c]\n",
    "            all_candidates.append(candidate)\n",
    "        ordered = sorted(all_candidates, key=lambda tup:tup[1])\n",
    "        sequences = ordered[:beam_size]\n",
    "    answer_ = sequences[0][0]\n",
    "    print(answer_[0])\n",
    "    answer_ = [index_to_word[x] for x in answer_[0] if (x!=0)]\n",
    "    answer_ = ' '.join(answer_)\n",
    "    return answer_\n",
    "def plot_attention(attention, sentence, predicted_sentence):\n",
    "    zhfont = matplotlib.font_manager.FontProperties(fname='simkai.ttf')\n",
    "    fig = plt.figure(figsize=(5,5))\n",
    "    ax = fig.add_subplot(1, 1, 1)\n",
    "    attention = [x[::-1] for x in attention]\n",
    "    ax.matshow(attention, cmap='viridis')\n",
    "    fontdict = {'fontsize': 20}\n",
    "    ax.set_xticklabels([''] + sentence, fontdict=fontdict,fontproperties=zhfont)\n",
    "    ax.set_yticklabels([''] + predicted_sentence, fontdict=fontdict, fontproperties=zhfont)\n",
    "#     ax.yaxis.set_ticks_position('right') #y轴刻度位置靠右\n",
    "    plt.show()"
   ]
  },
  {
   "cell_type": "code",
   "execution_count": 11,
   "metadata": {
    "scrolled": true
   },
   "outputs": [
    {
     "name": "stdout",
     "output_type": "stream",
     "text": [
      "你身高多少\n",
      "[[  10 8113  123    0    0    0    0    0    0    0    0    0    0    0\n",
      "     0    0    0    0    0    0]]\n",
      "['你', '身高', '多少']\n",
      "1/1 [==============================] - 0s 6ms/step\n"
     ]
    },
    {
     "data": {
      "image/png": "[encoded data removed]",
      "text/plain": [
       "<Figure size 360x360 with 1 Axes>"
      ]
     },
     "metadata": {
      "needs_background": "light"
     },
     "output_type": "display_data"
    },
    {
     "name": "stdout",
     "output_type": "stream",
     "text": [
      "ANSWER:  标准 身材 175CM EOS\n",
      "你是人类么\n",
      "[[  10   29 2659  126    0    0    0    0    0    0    0    0    0    0\n",
      "     0    0    0    0    0    0]]\n",
      "['你', '是', '人类', '么']\n",
      "1/1 [==============================] - 0s 7ms/step\n"
     ]
    },
    {
     "data": {
      "image/png": "[encoded data removed]",
      "text/plain": [
       "<Figure size 360x360 with 1 Axes>"
      ]
     },
     "metadata": {
      "needs_background": "light"
     },
     "output_type": "display_data"
    },
    {
     "name": "stdout",
     "output_type": "stream",
     "text": [
      "ANSWER:  不 知道 EOS\n",
      "我恨你\n",
      "[[  56 4127   10    0    0    0    0    0    0    0    0    0    0    0\n",
      "     0    0    0    0    0    0]]\n",
      "['我', '恨', '你']\n",
      "1/1 [==============================] - 0s 7ms/step\n"
     ]
    },
    {
     "data": {
      "image/png": "[encoded data removed]",
      "text/plain": [
       "<Figure size 360x360 with 1 Axes>"
      ]
     },
     "metadata": {
      "needs_background": "light"
     },
     "output_type": "display_data"
    },
    {
     "name": "stdout",
     "output_type": "stream",
     "text": [
      "ANSWER:  你 舍得 吗 EOS\n",
      "我生气了\n",
      "[[  56 2074   57    0    0    0    0    0    0    0    0    0    0    0\n",
      "     0    0    0    0    0    0]]\n",
      "['我', '生气', '了']\n",
      "1/1 [==============================] - 0s 7ms/step\n"
     ]
    },
    {
     "data": {
      "image/png": "[encoded data removed]",
      "text/plain": [
       "<Figure size 360x360 with 1 Axes>"
      ]
     },
     "metadata": {
      "needs_background": "light"
     },
     "output_type": "display_data"
    },
    {
     "name": "stdout",
     "output_type": "stream",
     "text": [
      "ANSWER:  发怒 1 分钟 便 失去 60 秒 的 幸福 EOS\n",
      "哄哄我\n",
      "[[11692    56     0     0     0     0     0     0     0     0     0     0\n",
      "      0     0     0     0     0     0     0     0]]\n",
      "['哄哄', '我']\n",
      "1/1 [==============================] - 0s 6ms/step\n"
     ]
    },
    {
     "data": {
      "image/png": "[encoded data removed]",
      "text/plain": [
       "<Figure size 360x360 with 1 Axes>"
      ]
     },
     "metadata": {
      "needs_background": "light"
     },
     "output_type": "display_data"
    },
    {
     "name": "stdout",
     "output_type": "stream",
     "text": [
      "ANSWER:  你 是 大美女 EOS\n",
      "你饿不饿啊\n",
      "[[ 10 729  36 729 128   0   0   0   0   0   0   0   0   0   0   0   0   0\n",
      "    0   0]]\n",
      "['你', '饿', '不', '饿', '啊']\n",
      "1/1 [==============================] - 0s 11ms/step\n"
     ]
    },
    {
     "data": {
      "image/png": "[encoded data removed]",
      "text/plain": [
       "<Figure size 360x360 with 1 Axes>"
      ]
     },
     "metadata": {
      "needs_background": "light"
     },
     "output_type": "display_data"
    },
    {
     "name": "stdout",
     "output_type": "stream",
     "text": [
      "ANSWER:  那快 去 吃 点 东西 吧 别老 玩 QQ 了 EOS\n",
      "我好饿啊\n",
      "[[ 56 361 729 128   0   0   0   0   0   0   0   0   0   0   0   0   0   0\n",
      "    0   0]]\n",
      "['我', '好', '饿', '啊']\n",
      "1/1 [==============================] - 0s 10ms/step\n"
     ]
    },
    {
     "data": {
      "image/png": "[encoded data removed]",
      "text/plain": [
       "<Figure size 360x360 with 1 Axes>"
      ]
     },
     "metadata": {
      "needs_background": "light"
     },
     "output_type": "display_data"
    },
    {
     "name": "stdout",
     "output_type": "stream",
     "text": [
      "ANSWER:  那快 去 吃 点 东西 吧 别老 玩 QQ 了 EOS\n",
      "我恨你\n",
      "[[  56 4127   10    0    0    0    0    0    0    0    0    0    0    0\n",
      "     0    0    0    0    0    0]]\n",
      "['我', '恨', '你']\n",
      "1/1 [==============================] - 0s 5ms/step\n"
     ]
    },
    {
     "data": {
      "image/png": "[encoded data removed]",
      "text/plain": [
       "<Figure size 360x360 with 1 Axes>"
      ]
     },
     "metadata": {
      "needs_background": "light"
     },
     "output_type": "display_data"
    },
    {
     "name": "stdout",
     "output_type": "stream",
     "text": [
      "ANSWER:  你 舍得 吗 EOS\n",
      "今天天气好差\n",
      "[[20439 15027     0     0     0     0     0     0     0     0     0     0\n",
      "      0     0     0     0     0     0     0     0]]\n",
      "['今天天气', '好差']\n",
      "1/1 [==============================] - 0s 8ms/step\n"
     ]
    },
    {
     "data": {
      "image/png": "[encoded data removed]",
      "text/plain": [
       "<Figure size 360x360 with 1 Axes>"
      ]
     },
     "metadata": {
      "needs_background": "light"
     },
     "output_type": "display_data"
    },
    {
     "name": "stdout",
     "output_type": "stream",
     "text": [
      "ANSWER:  是 啊 这 天气 不错 嘛 EOS\n",
      "今天天气真差\n",
      "[[36874   165 14625     0     0     0     0     0     0     0     0     0\n",
      "      0     0     0     0     0     0     0     0]]\n",
      "['今天天气', '真差']\n",
      "1/1 [==============================] - 0s 9ms/step\n"
     ]
    },
    {
     "data": {
      "image/png": "[encoded data removed]",
      "text/plain": [
       "<Figure size 360x360 with 1 Axes>"
      ]
     },
     "metadata": {
      "needs_background": "light"
     },
     "output_type": "display_data"
    },
    {
     "name": "stdout",
     "output_type": "stream",
     "text": [
      "ANSWER:  与其说是 聊天 不如说是 问答式 的 吧 EOS\n",
      "一起去吃饭吧\n",
      "[[1654  147  230  194    0    0    0    0    0    0    0    0    0    0\n",
      "     0    0    0    0    0    0]]\n",
      "['一起', '去', '吃饭', '吧']\n",
      "1/1 [==============================] - 0s 8ms/step\n"
     ]
    },
    {
     "data": {
      "image/png": "[encoded data removed]",
      "text/plain": [
       "<Figure size 360x360 with 1 Axes>"
      ]
     },
     "metadata": {
      "needs_background": "light"
     },
     "output_type": "display_data"
    },
    {
     "name": "stdout",
     "output_type": "stream",
     "text": [
      "ANSWER:  好 啊 一块 来 去 吃 哦 EOS\n",
      "你吃饱了没\n",
      "[[  10 3964   57   61    0    0    0    0    0    0    0    0    0    0\n",
      "     0    0    0    0    0    0]]\n",
      "['你', '吃饱', '了', '没']\n",
      "1/1 [==============================] - 0s 14ms/step\n"
     ]
    },
    {
     "data": {
      "image/png": "[encoded data removed]",
      "text/plain": [
       "<Figure size 360x360 with 1 Axes>"
      ]
     },
     "metadata": {
      "needs_background": "light"
     },
     "output_type": "display_data"
    },
    {
     "name": "stdout",
     "output_type": "stream",
     "text": [
      "ANSWER:  不要 啦 讨厌 这 天气 适合 睡觉 EOS\n",
      "你吃饱了么\n",
      "[[  10 3964   57  126    0    0    0    0    0    0    0    0    0    0\n",
      "     0    0    0    0    0    0]]\n",
      "['你', '吃饱', '了', '么']\n",
      "1/1 [==============================] - 0s 12ms/step\n"
     ]
    },
    {
     "data": {
      "image/png": "[encoded data removed]",
      "text/plain": [
       "<Figure size 360x360 with 1 Axes>"
      ]
     },
     "metadata": {
      "needs_background": "light"
     },
     "output_type": "display_data"
    },
    {
     "name": "stdout",
     "output_type": "stream",
     "text": [
      "ANSWER:  嗯 啊 谢谢 你 还 记得 我 EOS\n",
      "哈哈哈\n",
      "[[1018    0    0    0    0    0    0    0    0    0    0    0    0    0\n",
      "     0    0    0    0    0    0]]\n",
      "['哈哈哈']\n",
      "1/1 [==============================] - 0s 11ms/step\n"
     ]
    },
    {
     "data": {
      "image/png": "[encoded data removed]",
      "text/plain": [
       "<Figure size 360x360 with 1 Axes>"
      ]
     },
     "metadata": {
      "needs_background": "light"
     },
     "output_type": "display_data"
    },
    {
     "name": "stdout",
     "output_type": "stream",
     "text": [
      "ANSWER:  哇 靠 你 咋 笑 得 这么 猥琐 ~ EOS\n",
      "哈哈\n",
      "[[1265    0    0    0    0    0    0    0    0    0    0    0    0    0\n",
      "     0    0    0    0    0    0]]\n",
      "['哈哈']\n",
      "1/1 [==============================] - 0s 8ms/step\n"
     ]
    },
    {
     "data": {
      "image/png": "[encoded data removed]",
      "text/plain": [
       "<Figure size 360x360 with 1 Axes>"
      ]
     },
     "metadata": {
      "needs_background": "light"
     },
     "output_type": "display_data"
    },
    {
     "name": "stdout",
     "output_type": "stream",
     "text": [
      "ANSWER:  呵呵 ~ EOS\n",
      "你好\n",
      "[[829   0   0   0   0   0   0   0   0   0   0   0   0   0   0   0   0   0\n",
      "    0   0]]\n",
      "['你好']\n",
      "1/1 [==============================] - 0s 9ms/step\n"
     ]
    },
    {
     "data": {
      "image/png": "[encoded data removed]",
      "text/plain": [
       "<Figure size 360x360 with 1 Axes>"
      ]
     },
     "metadata": {
      "needs_background": "light"
     },
     "output_type": "display_data"
    },
    {
     "name": "stdout",
     "output_type": "stream",
     "text": [
      "ANSWER:  饮水 得 喇 EOS\n",
      "你在干嘛呢\n",
      "[[ 10   2 229 171   0   0   0   0   0   0   0   0   0   0   0   0   0   0\n",
      "    0   0]]\n",
      "['你', '在', '干嘛', '呢']\n",
      "1/1 [==============================] - 0s 9ms/step\n"
     ]
    },
    {
     "data": {
      "image/png": "[encoded data removed]",
      "text/plain": [
       "<Figure size 360x360 with 1 Axes>"
      ]
     },
     "metadata": {
      "needs_background": "light"
     },
     "output_type": "display_data"
    },
    {
     "name": "stdout",
     "output_type": "stream",
     "text": [
      "ANSWER:  能 干嘛 呢 聊天 呗 上网 呗 EOS\n",
      "x\n"
     ]
    }
   ],
   "source": [
    "while True:\n",
    "    seq = input()\n",
    "    if seq == 'x':\n",
    "        break\n",
    "    seq, sentence = input_question(seq)\n",
    "    print(sentence)\n",
    "    answer = decode_greedy(seq, sentence)\n",
    "#     answer=decode_beamsearch(seq, 3)\n",
    "    print('ANSWER: ', answer)"
   ]
  },
  {
   "cell_type": "code",
   "execution_count": 7,
   "metadata": {},
   "outputs": [
    {
     "name": "stderr",
     "output_type": "stream",
     "text": [
      "Building prefix dict from the default dictionary ...\n",
      "Loading model from cache E:\\Temp\\jieba.cache\n"
     ]
    },
    {
     "name": "stdout",
     "output_type": "stream",
     "text": [
      "哈哈\n",
      "\n"
     ]
    },
    {
     "name": "stderr",
     "output_type": "stream",
     "text": [
      "Loading model cost 0.897 seconds.\n",
      "Prefix dict has been built succesfully.\n"
     ]
    },
    {
     "name": "stdout",
     "output_type": "stream",
     "text": [
      "[[1265    0    0    0    0    0    0    0    0    0    0    0    0    0\n",
      "     0    0    0    0    0    0]]\n",
      "\r",
      "1/1 [==============================] - 0s 155ms/step\n"
     ]
    },
    {
     "data": {
      "image/png": "[encoded data removed]",
      "text/plain": [
       "<Figure size 360x360 with 1 Axes>"
      ]
     },
     "metadata": {
      "needs_background": "light"
     },
     "output_type": "display_data"
    },
    {
     "name": "stdout",
     "output_type": "stream",
     "text": [
      "呵呵 ~ EOS\n"
     ]
    }
   ],
   "source": [
    "from tkinter import Text, Entry, Button, StringVar, Scrollbar, END\n",
    "from tkinter.messagebox import showinfo\n",
    "import tkinter as tk\n",
    "root = tk.Tk()\n",
    "root.title(\"聊天机器人-小意\")\n",
    "root.geometry(\"425x385\")\n",
    "root.resizable(0,0)\n",
    "root.attributes('-toolwindow', True,\n",
    "                '-alpha', 1,\n",
    "                '-fullscreen', False, \n",
    "                '-topmost', True)\n",
    "showinfo('Hello', '[小意]准备好了！')\n",
    "root.overrideredirect(True)\n",
    "def center_window(w, h):\n",
    "    ws = root.winfo_screenwidth()\n",
    "    hs = root.winfo_screenheight()\n",
    "    x = (ws/2) - (w/2)\n",
    "    y = (hs/2) - (h/2)\n",
    "    root.geometry('%dx%d+%d+%d' % (w, h, x, y))\n",
    "center_window(425, 356)\n",
    "text_recv = Text(root, width=61, height=20, bd=0, selectbackground='#00BFFF')\n",
    "text_recv.place(x=0, y=0)\n",
    "text_recv.tag_config('me_msg', \n",
    "                     foreground='#000000', \n",
    "#                      background='#00BFFF',\n",
    "                     justify='right', \n",
    "                     rmargin=20,\n",
    "                     offset=10,\n",
    "                     borderwidth=10)\n",
    "\n",
    "text_msg = Text(root, width=61, height=6, bd=0)\n",
    "text_msg.place(x=0, y=275)\n",
    "\n",
    "\n",
    "def show():\n",
    "    seq = text_msg.get(\"0.0\", \"end\")\n",
    "    msg_send = seq\n",
    "    print(msg_send)\n",
    "    text_recv.insert(END, msg_send, 'me_msg')\n",
    "    seq, sentence = input_question(seq)\n",
    "    answer = decode_greedy(seq, sentence)\n",
    "    print(answer)\n",
    "    answer = ''.join(answer.split(' ')[:-1])\n",
    "    msg_recv = '[小意]: '+ answer + '\\n'\n",
    "    text_recv.insert(END, msg_recv)\n",
    "    text_msg.delete(\"0.0\", \"end\")\n",
    "Button(root,text='发送信息',width=10,command=show, \n",
    "       bd=0, bg='#00BFFF', fg='#FFFFFF',\n",
    "       activeforeground='#1E90FF').place(x=340,y=330)\n",
    "Button(root,text='quit',width=10,command=root.destroy, \n",
    "       bd=0, bg='#00BFFF', fg='#FFFFFF',\n",
    "       activeforeground='#1E90FF').place(x=20,y=330)\n",
    "Button(root, text=\"清屏\",width=10,command = lambda : text_recv.delete(0.0, END),\n",
    "       bd=0, bg='#00BFFF', fg='#FFFFFF',\n",
    "       activeforeground='#1E90FF').place(x=240,y=330)\n",
    "root.mainloop()\n"
   ]
  },
  {
   "cell_type": "code",
   "execution_count": null,
   "metadata": {},
   "outputs": [],
   "source": []
  }
 ],
 "metadata": {
  "kernelspec": {
   "display_name": "Python 3",
   "language": "python",
   "name": "python3"
  },
  "language_info": {
   "codemirror_mode": {
    "name": "ipython",
    "version": 3
   },
   "file_extension": ".py",
   "mimetype": "text/x-python",
   "name": "python",
   "nbconvert_exporter": "python",
   "pygments_lexer": "ipython3",
   "version": "3.6.8"
  }
 },
 "nbformat": 4,
 "nbformat_minor": 2
}
